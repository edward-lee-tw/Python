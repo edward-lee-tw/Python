{
 "cells": [
  {
   "cell_type": "code",
   "execution_count": 22,
   "id": "a3460ca1",
   "metadata": {},
   "outputs": [
    {
     "data": {
      "text/plain": [
       "公開申購公告-抽籤日程表  序號                        1\n",
       "              抽籤日期              111/09/06\n",
       "              證券名稱                  動力-KY\n",
       "              證券代號                   6591\n",
       "              發行市場             第一上市公司現金增資\n",
       "              申購開始日             111/08/31\n",
       "              申購結束日             111/09/02\n",
       "              承銷股數                 170000\n",
       "              實際承銷股數               170000\n",
       "              承銷價(元)                 36.0\n",
       "              實際承銷價(元)               36.0\n",
       "              撥券日期(上市、上櫃日期)     111/09/15\n",
       "              主辦券商                     康和\n",
       "              申購股數                   1000\n",
       "              總承銷金額(元)            6120000\n",
       "              總合格件                      0\n",
       "              中籤率(%)                  0.0\n",
       "              取消公開抽籤                  NaN\n",
       "Name: 0, dtype: object"
      ]
     },
     "execution_count": 22,
     "metadata": {},
     "output_type": "execute_result"
    }
   ],
   "source": [
    "import pandas as pd\n",
    "# 連至TWSE 爬蟲\n",
    "url='https://www.twse.com.tw/announcement/publicForm?response=html&yy=2022'\n",
    "list_str = pd.read_html(url)  #list\n",
    "df=list_str[0]\n",
    "\n",
    "#df.columns\n",
    "df.iloc[0,:]  #第一row資料\n",
    "\n"
   ]
  },
  {
   "cell_type": "code",
   "execution_count": null,
   "id": "82bde7d7",
   "metadata": {},
   "outputs": [],
   "source": []
  }
 ],
 "metadata": {
  "kernelspec": {
   "display_name": "Python 3 (ipykernel)",
   "language": "python",
   "name": "python3"
  },
  "language_info": {
   "codemirror_mode": {
    "name": "ipython",
    "version": 3
   },
   "file_extension": ".py",
   "mimetype": "text/x-python",
   "name": "python",
   "nbconvert_exporter": "python",
   "pygments_lexer": "ipython3",
   "version": "3.9.13"
  }
 },
 "nbformat": 4,
 "nbformat_minor": 5
}

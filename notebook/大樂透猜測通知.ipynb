{
 "cells": [
  {
   "cell_type": "markdown",
   "id": "4ae6b5df",
   "metadata": {},
   "source": [
    "# 1.猜測大樂透\n",
    "# 2.利用Line 通知\n",
    "\n"
   ]
  },
  {
   "cell_type": "code",
   "execution_count": 6,
   "id": "80483f50",
   "metadata": {},
   "outputs": [
    {
     "name": "stdout",
     "output_type": "stream",
     "text": [
      "威力彩排序前=['25', '07', '26', '35', '02', '36', '[02]']\n",
      "威力彩排序後=['02', '07', '25', '26', '35', '36', '[02]']\n"
     ]
    }
   ],
   "source": [
    "# 威力彩開獎號碼  正確答案\n",
    "import random\n",
    "\n",
    "list1 = []\n",
    "\n",
    "while len(list1) != 6 :\n",
    "    n = random.randint(1,38)\n",
    "    if n not in list1 :\n",
    "        list1.append(n)\n",
    "\n",
    "for n in range(len(list1)) :\n",
    "    list1[n] = str(list1[n]).zfill(2)\n",
    "        \n",
    "m = \"[\"+str(random.randint(1,8)).zfill(2)+\"]\"\n",
    "        \n",
    "list2 = sorted(list1)\n",
    "\n",
    "list1.append(m)\n",
    "list2.append(m)\n",
    "message=\"威力彩排序前=\"+str(list1)\n",
    "print(message)\n",
    "message=\"威力彩排序後=\"+str(list2)\n",
    "print(message)"
   ]
  },
  {
   "cell_type": "code",
   "execution_count": 13,
   "id": "4fd9714b",
   "metadata": {},
   "outputs": [
    {
     "name": "stdout",
     "output_type": "stream",
     "text": [
      "大樂透排序前=['44', '47', '40', '17', '46', '03']\n",
      "大樂透排序後=['03', '17', '40', '44', '46', '47']\n"
     ]
    }
   ],
   "source": [
    "# 大樂透開獎號碼  正確答案\n",
    "import random\n",
    "\n",
    "list1 = []\n",
    "\n",
    "while len(list1) != 6 :\n",
    "    n = random.randint(1,49)\n",
    "    if n not in list1 :\n",
    "        list1.append(n)\n",
    "\n",
    "for n in range(len(list1)) :\n",
    "    list1[n] = str(list1[n]).zfill(2)\n",
    "        \n",
    "\n",
    "        \n",
    "list2 = sorted(list1)\n",
    "\n",
    "\n",
    "message=\"大樂透排序前=\"+str(list1)\n",
    "print(message)\n",
    "message=\"大樂透排序後=\"+str(list2)\n",
    "print(message)"
   ]
  },
  {
   "cell_type": "markdown",
   "id": "c687f8ec",
   "metadata": {},
   "source": [
    "# 處理Line 問題 "
   ]
  },
  {
   "cell_type": "markdown",
   "id": "f04e7f6e",
   "metadata": {},
   "source": [
    "## 1.申請Line Notify(https://notify-bot.line.me/zh_TW/)"
   ]
  },
  {
   "cell_type": "markdown",
   "id": "2c569f1d",
   "metadata": {},
   "source": [
    "## 2.Get 權杖\n",
    "### YsdnQrdmDn5i3LJ58gSAWYx8730a7kYDhRB1fGXBMFr"
   ]
  },
  {
   "cell_type": "markdown",
   "id": "ed5cfe60",
   "metadata": {},
   "source": [
    "## 3.發送Line Notify 通知"
   ]
  },
  {
   "cell_type": "code",
   "execution_count": 51,
   "id": "26527aba",
   "metadata": {},
   "outputs": [
    {
     "name": "stdout",
     "output_type": "stream",
     "text": [
      "發送 Line Notify 成功\n",
      "發送 Line Notify 成功\n"
     ]
    }
   ],
   "source": [
    "import requests\n",
    "import random\n",
    "\n",
    "dict_times={\"威力彩\":1,\"大樂透\":1}  # 跑回圈的次數\n",
    "#print(dict_times[\"大樂透\"])\n",
    "\n",
    "def lineNotify(token, msg):\n",
    "    headers = {\n",
    "        \"Authorization\": \"Bearer \" + token,  # 注意\"Bearer \", 有一個空白\n",
    "        \"Content-Type\": \"application/x-www-form-urlencoded\"\n",
    "    }\n",
    "\n",
    "    payload = {'message': msg}\n",
    "    notify = requests.post(\"https://notify-api.line.me/api/notify\", headers=headers, params=payload)\n",
    "    return notify.status_code\n",
    "\n",
    "\n",
    "token = 'mqApGQBnGsd5Fp2H85HEBfJdp9C9uzoR7YgZFcS1cqf'  # 權杖\n",
    "\n",
    "\n",
    "# 威力彩開獎號碼  ============開始\n",
    "i=dict_times[\"威力彩\"]\n",
    "while i>0 :\n",
    "    list1 = []\n",
    "\n",
    "    while len(list1) != 6 :\n",
    "        n = random.randint(1,38)\n",
    "        if n not in list1 :\n",
    "            list1.append(n)\n",
    "\n",
    "    for n in range(len(list1)) :\n",
    "        list1[n] = str(list1[n]).zfill(2)\n",
    "\n",
    "    m = \"[\"+str(random.randint(1,8)).zfill(2)+\"]\"\n",
    "\n",
    "    list2 = sorted(list1)\n",
    "\n",
    "    list1.append(m)\n",
    "    list2.append(m)\n",
    "    message1=\"威力彩排序前=\"+str(list1)\n",
    "    message2=\"威力彩排序後=\"+str(list2)\n",
    "    message=message1+\"\\n\"+message2\n",
    "    #print(message)\n",
    "    code = lineNotify(token, message)\n",
    "    if code == 200:\n",
    "        print('發送 Line Notify 成功')\n",
    "    else:\n",
    "        print('發送 Line Notify 失敗')\n",
    "    i-=1\n",
    "# 威力彩開獎號碼  ============結束\t\n",
    "\n",
    "\n",
    "\n",
    "# 大樂透開獎號碼  ============開始\n",
    "i=dict_times[\"大樂透\"]\n",
    "while i>0 :\n",
    "    list1 = []\n",
    "\n",
    "    while len(list1) != 6 :\n",
    "        n = random.randint(1,49)\n",
    "        if n not in list1 :\n",
    "            list1.append(n)\n",
    "\n",
    "    for n in range(len(list1)) :\n",
    "        list1[n] = str(list1[n]).zfill(2)\n",
    "\n",
    "\n",
    "    list2 = sorted(list1)\n",
    "    \n",
    "\n",
    "    message1=\"大樂透排序前=\"+str(list1)\n",
    "    message2=\"大樂透排序後=\"+str(list2)\n",
    "    message=message1+\"\\n\"+message2\n",
    "    #print(message)\n",
    "    code = lineNotify(token, message)\n",
    "    if code == 200:\n",
    "        print('發送 Line Notify 成功')\n",
    "    else:\n",
    "        print('發送 Line Notify 失敗')\n",
    "    i-=1\n",
    "# 大樂透開獎號碼  ============結束"
   ]
  },
  {
   "cell_type": "markdown",
   "id": "208f021a",
   "metadata": {},
   "source": [
    "### 第一版"
   ]
  },
  {
   "cell_type": "code",
   "execution_count": 33,
   "id": "a414a42b",
   "metadata": {},
   "outputs": [
    {
     "name": "stdout",
     "output_type": "stream",
     "text": [
      "發送 Line Notify 成功\n",
      "發送 Line Notify 成功\n"
     ]
    }
   ],
   "source": [
    "import requests\n",
    "\n",
    "\n",
    "\n",
    "def lineNotify(token, msg):\n",
    "    headers = {\n",
    "        \"Authorization\": \"Bearer \" + token,  # 注意\"Bearer \", 有一個空白\n",
    "        \"Content-Type\": \"application/x-www-form-urlencoded\"\n",
    "    }\n",
    "\n",
    "    payload = {'message': msg}\n",
    "    notify = requests.post(\"https://notify-api.line.me/api/notify\", headers=headers, params=payload)\n",
    "    return notify.status_code\n",
    "\n",
    "\n",
    "token = 'YsdnQrdmDn5i3LJ58gSAWYx8730a7kYDhRB1fGXBMFr'  # 權杖\n",
    "\n",
    "\n",
    "# 威力彩開獎號碼  ============開始\n",
    "import random\n",
    "\n",
    "list1 = []\n",
    "\n",
    "while len(list1) != 6 :\n",
    "    n = random.randint(1,38)\n",
    "    if n not in list1 :\n",
    "        list1.append(n)\n",
    "\n",
    "for n in range(len(list1)) :\n",
    "    list1[n] = str(list1[n]).zfill(2)\n",
    "        \n",
    "m = \"[\"+str(random.randint(1,8)).zfill(2)+\"]\"\n",
    "        \n",
    "list2 = sorted(list1)\n",
    "\n",
    "list1.append(m)\n",
    "list2.append(m)\n",
    "message1=\"威力彩排序前=\"+str(list1)\n",
    "message2=\"威力彩排序後=\"+str(list2)\n",
    "message=message1+\"\\n\"+message2\n",
    "# code = lineNotify(token, message)\n",
    "if code == 200:\n",
    "    print('發送 Line Notify 成功')\n",
    "else:\n",
    "    print('發送 Line Notify 失敗')\n",
    "# 威力彩開獎號碼  ============結束\n",
    "\n",
    "\n",
    "\n",
    "# 大樂透開獎號碼  ============開始\n",
    "import random\n",
    "\n",
    "list1 = []\n",
    "\n",
    "while len(list1) != 6 :\n",
    "    n = random.randint(1,49)\n",
    "    if n not in list1 :\n",
    "        list1.append(n)\n",
    "\n",
    "for n in range(len(list1)) :\n",
    "    list1[n] = str(list1[n]).zfill(2)\n",
    "        \n",
    "\n",
    "        \n",
    "list2 = sorted(list1)\n",
    "\n",
    "\n",
    "message1=\"大樂透排序前=\"+str(list1)\n",
    "message2=\"大樂透排序後=\"+str(list2)\n",
    "message=message1+\"\\n\"+message2\n",
    "code = lineNotify(token, message)\n",
    "if code == 200:\n",
    "    print('發送 Line Notify 成功')\n",
    "else:\n",
    "    print('發送 Line Notify 失敗')\n",
    "# 大樂透開獎號碼  ============結束"
   ]
  }
 ],
 "metadata": {
  "kernelspec": {
   "display_name": "Python 3 (ipykernel)",
   "language": "python",
   "name": "python3"
  },
  "language_info": {
   "codemirror_mode": {
    "name": "ipython",
    "version": 3
   },
   "file_extension": ".py",
   "mimetype": "text/x-python",
   "name": "python",
   "nbconvert_exporter": "python",
   "pygments_lexer": "ipython3",
   "version": "3.9.13"
  }
 },
 "nbformat": 4,
 "nbformat_minor": 5
}

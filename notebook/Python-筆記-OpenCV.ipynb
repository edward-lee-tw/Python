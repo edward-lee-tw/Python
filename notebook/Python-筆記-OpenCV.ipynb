{
 "cells": [
  {
   "cell_type": "markdown",
   "id": "d6364cdb",
   "metadata": {},
   "source": [
    "# opencv-基礎教學筆記\n",
    "[參考](https://medium.com/jimmy-wang/opencv-%E5%9F%BA%E7%A4%8E%E6%95%99%E5%AD%B8%E7%AD%86%E8%A8%98-with-python-d780f571a57a)"
   ]
  },
  {
   "cell_type": "markdown",
   "id": "d42d828a",
   "metadata": {},
   "source": [
    "## 一、圖片與影像讀取\n",
    "### 圖片讀取很簡單，但端看是否要呈現出來(show)，注意若使用 colab或遠端環境，會是遠端的資源開啟圖片，本地／連線端是看不到的。"
   ]
  },
  {
   "cell_type": "code",
   "execution_count": 1,
   "id": "0c5e7586",
   "metadata": {},
   "outputs": [],
   "source": [
    "# 於python環境執行指令前先導入package\n",
    "import cv2 as cv"
   ]
  },
  {
   "cell_type": "code",
   "execution_count": 8,
   "id": "fa1facec",
   "metadata": {},
   "outputs": [
    {
     "data": {
      "text/plain": [
       "-1"
      ]
     },
     "execution_count": 8,
     "metadata": {},
     "output_type": "execute_result"
    }
   ],
   "source": [
    "# 讀取圖片\n",
    "img = cv.imread('Resouces/cat.jpg')\n",
    "cv.imshow('Cat', img)\n",
    "cv.waitKey(0)"
   ]
  },
  {
   "cell_type": "code",
   "execution_count": 28,
   "id": "00841afb",
   "metadata": {},
   "outputs": [],
   "source": [
    "# 讀取影片\n",
    "capture = cv.VideoCapture('Resources/dog.mp4')\n",
    "while True:\n",
    "    isTrue, frame = capture.read()\n",
    "    if isTrue: \n",
    "        cv.imshow('Video', frame)\n",
    " \n",
    "    # 讀取過程中若按下 q 則離開\n",
    "    if cv.waitKey(27) & 0xFF==ord('q'):\n",
    "        break \n",
    " \n",
    "    # 持續讀取影片，直到讀取完畢\n",
    "    else:\n",
    "        break\n",
    "capture.release()\n",
    "cv.destroyAllWindows()"
   ]
  },
  {
   "cell_type": "markdown",
   "id": "716ebd07",
   "metadata": {},
   "source": [
    "## 二、用OpecCV繪圖\n",
    "### 繪圖並不困難，困難的是參數要怎麼放，代表什麼意思。"
   ]
  },
  {
   "cell_type": "code",
   "execution_count": 2,
   "id": "f00e7bc2",
   "metadata": {},
   "outputs": [],
   "source": [
    "# 這邊導入numpy套件\n",
    "import cv2 as cv\n",
    "import numpy as np"
   ]
  },
  {
   "cell_type": "code",
   "execution_count": 33,
   "id": "87806183",
   "metadata": {},
   "outputs": [
    {
     "data": {
      "text/plain": [
       "-1"
      ]
     },
     "execution_count": 33,
     "metadata": {},
     "output_type": "execute_result"
    }
   ],
   "source": [
    "blank = np.zeros((500,500,3), dtype='uint8')\n",
    "# 1. 畫指定位置(直接給位置參數)\n",
    "blank[200:300, 300:400] = 255,255,100\n",
    "cv.imshow('Cyan', blank)\n",
    "#2. 畫方框(畫布, 起點, 終點, 顏色, 粗度)\n",
    "# 如果 thickness=-1則為填滿\n",
    "cv.rectangle(blank, (0,0), (250,250), (0,255,0), thickness = 3)\n",
    "cv.imshow('Green', blank)\n",
    "# 3. 畫圓形(畫布, 圓心位置, 半徑radius, 顏色, 粗度)\n",
    "# 如果 thickness=-1則為填滿\n",
    "cv.circle(blank, (blank.shape[1]//2, blank.shape[0]//2), 40, (0,0,255), thickness = 3)\n",
    "cv.imshow('Red', blank)\n",
    "# 4. 畫線條(畫布, 起點, 終點, 顏色, 粗度)\n",
    "cv.line(blank ,(0,0), (blank.shape[1]//2, blank.shape[0]//2), (255,255,255), thickness = 3)\n",
    "cv.imshow('Red', blank)\n",
    "# 5. 加入文字(畫布, 文字內容, 起點, 字體, 大小, 顏色, 粗度)\n",
    "cv.putText(blank, '中文呢? This is Jimmy.', (150,225), cv.FONT_HERSHEY_TRIPLEX, 1.0, (0,255,0), 2)  #中文不行\n",
    "cv.imshow('Text', blank)\n",
    "# 等待圖片關閉\n",
    "cv.waitKey(0)"
   ]
  },
  {
   "cell_type": "markdown",
   "id": "370b6064",
   "metadata": {},
   "source": [
    "## 三、圖像預處理與形態學(Morphology)\n",
    "### 圖片預處理有很多種，包含模糊化(blur)、輪廓化(edge cascade)、膨脹、侵蝕、先膨脹後侵蝕、先侵蝕後膨脹，具有不同的效果，並且有許多小技巧可以進行調整，影片在此先介紹到最基礎的內容。"
   ]
  },
  {
   "cell_type": "code",
   "execution_count": 1,
   "id": "1360bfa3",
   "metadata": {},
   "outputs": [],
   "source": [
    "# 這邊導入numpy套件\n",
    "import cv2 as cv\n",
    "import numpy as np"
   ]
  },
  {
   "cell_type": "code",
   "execution_count": 5,
   "id": "78425fdc",
   "metadata": {},
   "outputs": [
    {
     "data": {
      "text/plain": [
       "-1"
      ]
     },
     "execution_count": 5,
     "metadata": {},
     "output_type": "execute_result"
    }
   ],
   "source": [
    "img = cv.imread('Resouces/cat.jpg')\n",
    "# 糊糊化(blur)\n",
    "# 注意 kernel size必須是奇數(odd)，kernel size越大越模糊。\n",
    "# 模糊化也有許多不同的方法可以進行，讓 kernel依據需求進行運算。\n",
    "blur = cv.GaussianBlur(img, (7,7), cv.BORDER_DEFAULT)\n",
    "cv.imshow('Blur Cats', blur)\n",
    "# 輪廓化(edge cascade)\n",
    "# 小技巧，可以先將圖片模糊化，再進行輪廓化，可以抓到比較少雜訊。\n",
    "canny = cv.Canny(blur, 125, 175)\n",
    "cv.imshow('Canny Cats', canny)\n",
    "# 注意膨脹、侵蝕用的照片是已經輪廓化處理過。雜訊會較少。\n",
    "# 膨脹 dilating\n",
    "dilated = cv.dilate(canny, (7,7), iterations=3)\n",
    "cv.imshow('Dilated', dilated)\n",
    "# 侵蝕 eroding\n",
    "eroded = cv.erode(canny, (3,3), iterations=1)\n",
    "cv.imshow('Eroded', eroded)\n",
    "cv.waitKey(0)"
   ]
  },
  {
   "cell_type": "markdown",
   "id": "daaf6aec",
   "metadata": {},
   "source": [
    "### 移動圖片位置 (Translation)"
   ]
  },
  {
   "cell_type": "code",
   "execution_count": 14,
   "id": "ecd4cdbe",
   "metadata": {},
   "outputs": [
    {
     "data": {
      "text/plain": [
       "-1"
      ]
     },
     "execution_count": 14,
     "metadata": {},
     "output_type": "execute_result"
    }
   ],
   "source": [
    "img = cv.imread('Resouces/cat.jpg')\n",
    "# 移動圖片位置 (Translation)\n",
    "def translate(img, x, y):\n",
    "    transMat = np.float32([[1,0,x],[0,1,y]])\n",
    "    dimensions = (img.shape[1], img.shape[0])\n",
    "    return cv.warpAffine(img, transMat, dimensions)\n",
    "# -x → 往左移動 ; x → 往右移動\n",
    "# -y → 往上移動 ; y → 往下移動\n",
    "translated = translate(img, -100, 100)\n",
    "cv.imshow('Source', img)\n",
    "cv.imshow('Translated', translated)\n",
    "cv.waitKey(0)"
   ]
  },
  {
   "cell_type": "markdown",
   "id": "1cac36ed",
   "metadata": {},
   "source": [
    "### 旋轉圖片(Rotation)"
   ]
  },
  {
   "cell_type": "code",
   "execution_count": null,
   "id": "00407102",
   "metadata": {},
   "outputs": [],
   "source": [
    "img = cv.imread('Resouces/cat.jpg')\n",
    "# 旋轉圖片\n",
    "def rotate(img, angle, rotPoint=None):\n",
    "    (height,width) = img.shape[:2]\n",
    "    if rotPoint is None:\n",
    "        rotPoint = (width//2,height//2)\n",
    " \n",
    "    rotMat = cv.getRotationMatrix2D(rotPoint, angle, 1.0)\n",
    "    dimensions = (width,height)\n",
    "    return cv.warpAffine(img, rotMat, dimensions)\n",
    "\n",
    "cv.imshow('Source', img)\n",
    "# 輸入角度作為參數\n",
    "rotated = rotate(img, -45)\n",
    "cv.imshow('Rotated', rotated)\n",
    "rotated_rotated = rotate(img, -90)\n",
    "cv.imshow('Rotated Rotated', rotated_rotated)\n",
    "cv.waitKey(0)"
   ]
  },
  {
   "cell_type": "markdown",
   "id": "95fc420a",
   "metadata": {},
   "source": [
    "## 四、圖片結構(輪廓與層級) Contours & Hierarchies\n",
    "### 算是最難理解的部分，但基本上就是根據Canny輪廓化的結果(或採其他方式)，進行運算，找出輪廓裡外的關係，計算總共有幾層結構。"
   ]
  },
  {
   "cell_type": "code",
   "execution_count": 1,
   "id": "9103fe7c",
   "metadata": {},
   "outputs": [],
   "source": [
    "# 這邊導入numpy套件\n",
    "import cv2 as cv\n",
    "import numpy as np"
   ]
  },
  {
   "cell_type": "code",
   "execution_count": 5,
   "id": "5b91c10b",
   "metadata": {},
   "outputs": [
    {
     "name": "stdout",
     "output_type": "stream",
     "text": [
      "2793 contour(s) found!\n"
     ]
    },
    {
     "data": {
      "text/plain": [
       "-1"
      ]
     },
     "execution_count": 5,
     "metadata": {},
     "output_type": "execute_result"
    }
   ],
   "source": [
    "img = cv.imread('Resouces/cat.jpg')\n",
    "blank = np.zeros(img.shape, dtype='uint8')\n",
    "gray = cv.cvtColor(img, cv.COLOR_BGR2GRAY)\n",
    "blur = cv.GaussianBlur(gray, (5,5), cv.BORDER_DEFAULT)\n",
    "canny = cv.Canny(blur, 125, 175)\n",
    "\n",
    "contours, hierarchies = cv.findContours(canny, cv.RETR_LIST, cv.CHAIN_APPROX_SIMPLE)\n",
    "# 計算總共有幾個輪廓 contours\n",
    "print(f'{len(contours)} contour(s) found!')\n",
    "# 畫出當前所有的 contours\n",
    "cv.drawContours(img, contours, -1, (255,0,0), 1)\n",
    "cv.imshow('Contours Drawn on img', img)\n",
    "# 標示 contours\n",
    "cv.drawContours(blank, contours, -1, (0,255,0), 1)\n",
    "cv.imshow('Contours Drawn on blank', blank)\n",
    "cv.waitKey(0)\n",
    "#cv.destroyAllwindows()"
   ]
  },
  {
   "cell_type": "markdown",
   "id": "5208aa80",
   "metadata": {},
   "source": [
    "# (OpenCV)前景／背景分離技術[轉錄]\n",
    "[參考](https://medium.com/linux-on-raspberry-pi4/opencv-%E5%89%8D%E6%99%AF-%E8%83%8C%E6%99%AF%E5%88%86%E9%9B%A2%E6%8A%80%E8%A1%93-%E8%BD%89%E9%8C%84-d2745e41d159)"
   ]
  },
  {
   "cell_type": "markdown",
   "id": "13b7049b",
   "metadata": {},
   "source": [
    "## cv2.absdiff"
   ]
  },
  {
   "cell_type": "markdown",
   "id": "efab2283",
   "metadata": {},
   "source": [
    "### 它的功能就是將兩張相片相減後取絕對值。例如，我們將影片中兩張連續兩個frame進行cv2.absdiff，單憑肉眼似乎感覺不出前後兩張frame的差異，但使用cv2.absdiff之後便會得到如上的結果\n",
    "### cv2.absdiff能夠有效的去除背景取得移動中的物體，但卻有很多的限制讓它不是那麼好用：\n",
    "\n",
    "#### 1.必須使用兩張圖片。\n",
    "#### 2.除非能夠隨時update用於diff計算的背景圖片。\n",
    "#### 3.相當容易受環境變動（如光線、週遭物件、物體與背景顏色）的干擾。\n",
    "#### 4.若移動中的物體與背景顏色相同則無法偵測。\n",
    "#### 5.若物體靜止或移動得很緩慢，則無法偵測。"
   ]
  },
  {
   "cell_type": "markdown",
   "id": "9e5b8cdb",
   "metadata": {},
   "source": [
    "### 除了cv2.absdiff，其實OpenCV還另外提供了四種針對影片的背景分割器可用以分離影像中的前景與背景，它們分別是K-Nearest（KNN）、Mixture of Gaussians的MOG及MOG2、Geometric Multigid（GMG）等。它們的用法非常簡單，先使用cv2.createBackgroundSubtractor建立物件（可在此階段輸入參數），接著便可傳入影像使用apply命令去學習並取得去除背景後的結果。"
   ]
  },
  {
   "cell_type": "markdown",
   "id": "189eb77b",
   "metadata": {},
   "source": [
    "## BackgroundSubtractorMOG"
   ]
  },
  {
   "cell_type": "markdown",
   "id": "c37c4663",
   "metadata": {},
   "source": [
    "## BackgroundSubtractorMOG2"
   ]
  },
  {
   "cell_type": "markdown",
   "id": "81e0f10a",
   "metadata": {},
   "source": [
    "## BackgroundSubtractorGMG"
   ]
  },
  {
   "cell_type": "markdown",
   "id": "52c8df7f",
   "metadata": {},
   "source": [
    "## BackgroundSubtractorKNN"
   ]
  },
  {
   "cell_type": "markdown",
   "id": "95fe14ad",
   "metadata": {},
   "source": [
    "#### cv2.diffabs的作法是前後frame之間的差異，因此邊緣部份會比較明顯。\n",
    "#### 其它MOG、MOG2、KNN及GMG四種都是使用預設參數。\n",
    "#### MOG2在陰影處理上比起MOG好很多，但是在無陰影狀況下取出的物件形態似乎又沒有MOG來得好。GMG由於需要先學習，因此一開始不會顯示。"
   ]
  },
  {
   "cell_type": "code",
   "execution_count": null,
   "id": "89d11d0c",
   "metadata": {},
   "outputs": [],
   "source": []
  }
 ],
 "metadata": {
  "kernelspec": {
   "display_name": "Python 3 (ipykernel)",
   "language": "python",
   "name": "python3"
  },
  "language_info": {
   "codemirror_mode": {
    "name": "ipython",
    "version": 3
   },
   "file_extension": ".py",
   "mimetype": "text/x-python",
   "name": "python",
   "nbconvert_exporter": "python",
   "pygments_lexer": "ipython3",
   "version": "3.9.13"
  }
 },
 "nbformat": 4,
 "nbformat_minor": 5
}
